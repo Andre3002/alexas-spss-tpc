{
 "cells": [
  {
   "cell_type": "markdown",
   "id": "8d44b4ac",
   "metadata": {},
   "source": [
    "<h1> Alexa's SPSS TPC <h1>\n",
    "<h3> Make sure to use \"spss_analysis\" python environment<h3>"
   ]
  },
  {
   "cell_type": "code",
   "execution_count": 10,
   "id": "98ba79f6",
   "metadata": {},
   "outputs": [],
   "source": [
    "import pandas as pd\n",
    "import pyreadstat\n",
    "\n",
    "file_path = 'dataset\\OLIVE4ALL_3paises.sav'\n",
    "df, meta = pyreadstat.read_sav(file_path)\n"
   ]
  },
  {
   "cell_type": "code",
   "execution_count": 13,
   "id": "544d0a02",
   "metadata": {},
   "outputs": [
    {
     "name": "stdout",
     "output_type": "stream",
     "text": [
      "   Nquest  Idioma  Amostra  Exp1  Exp2  Exp3  Exp4  Exp5  Exp6  Exp7  ...  \\\n",
      "0    81.0     1.0      1.0   0.0   0.0   0.0   0.0   0.0   0.0   0.0  ...   \n",
      "1    94.0     1.0      1.0   1.0   1.0   1.0   0.0   0.0   1.0   0.0  ...   \n",
      "2   426.0     1.0      1.0   4.0   4.0   4.0   4.0   4.0   4.0   2.0  ...   \n",
      "3    86.0     1.0      1.0   0.0   0.0   0.0   0.0   0.0   1.0   0.0  ...   \n",
      "4    90.0     1.0      1.0   0.0   1.0   0.0   2.0   0.0   0.0   0.0  ...   \n",
      "5    56.0     1.0      1.0   2.0   1.0   0.0   2.0   1.0   0.0   0.0  ...   \n",
      "6   105.0     1.0      1.0   0.0   0.0   0.0   0.0   0.0   0.0   4.0  ...   \n",
      "7   314.0     1.0      1.0   0.0   0.0   0.0   0.0   0.0   0.0   0.0  ...   \n",
      "8   532.0     1.0      1.0   0.0   1.0   0.0   1.0   0.0   1.0   0.0  ...   \n",
      "9   197.0     1.0      1.0   0.0   1.0   0.0   1.0   0.0   0.0   0.0  ...   \n",
      "\n",
      "   Rend     MOTIV  INTERESS  PREFERE  SATIS  REPETIR  QCL  QCL_1  QCL_2  QCL_3  \n",
      "0   1.0  7.000000  7.000000    6.125    NaN      NaN  1.0    1.0    NaN    NaN  \n",
      "1   1.0  6.363636  5.538462    5.500    6.0      7.0  1.0    1.0    NaN    NaN  \n",
      "2   1.0  7.000000  6.846154    6.250    7.0      7.0  1.0    1.0    NaN    NaN  \n",
      "3   2.0  4.000000  4.000000    3.875    NaN      NaN  2.0    2.0    NaN    NaN  \n",
      "4   2.0  7.000000  6.923077    6.250    7.0      6.0  1.0    1.0    NaN    NaN  \n",
      "5   1.0  2.454545  2.846154    2.500    7.0      6.0  2.0    2.0    NaN    NaN  \n",
      "6   1.0  7.000000  6.615385    6.125    NaN      7.0  1.0    1.0    NaN    NaN  \n",
      "7   1.0  2.545455  4.307692    3.875    NaN      NaN  2.0    2.0    NaN    NaN  \n",
      "8   1.0  4.000000  4.692308    5.625    7.0      4.0  1.0    1.0    NaN    NaN  \n",
      "9   1.0  6.818182  6.307692    6.000    NaN      6.0  1.0    1.0    NaN    NaN  \n",
      "\n",
      "[10 rows x 58 columns]\n"
     ]
    }
   ],
   "source": [
    "print(df.head(10))"
   ]
  },
  {
   "cell_type": "code",
   "execution_count": 12,
   "id": "4b13ee69",
   "metadata": {},
   "outputs": [
    {
     "name": "stdout",
     "output_type": "stream",
     "text": [
      "<pyreadstat._readstat_parser.metadata_container object at 0x000001F564734F70>\n"
     ]
    }
   ],
   "source": [
    "print(meta)"
   ]
  }
 ],
 "metadata": {
  "kernelspec": {
   "display_name": "spss_analysis",
   "language": "python",
   "name": "python3"
  },
  "language_info": {
   "codemirror_mode": {
    "name": "ipython",
    "version": 3
   },
   "file_extension": ".py",
   "mimetype": "text/x-python",
   "name": "python",
   "nbconvert_exporter": "python",
   "pygments_lexer": "ipython3",
   "version": "3.9.22"
  }
 },
 "nbformat": 4,
 "nbformat_minor": 5
}
